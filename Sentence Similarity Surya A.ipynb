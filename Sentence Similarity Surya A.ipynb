{
 "cells": [
  {
   "cell_type": "code",
   "execution_count": 1,
   "id": "f1f209e1",
   "metadata": {},
   "outputs": [],
   "source": [
    "#I am using spacy because it helps us to build models that process and understand large volumne of texts\n",
    "import spacy \n",
    "\n",
    "# This function \"en_core_web_lg\" uses certain components tok2vec , etc and helps in getting the desired output\n",
    "nlp = spacy.load(\"en_core_web_lg\") "
   ]
  },
  {
   "cell_type": "code",
   "execution_count": 2,
   "id": "6366dc7f",
   "metadata": {},
   "outputs": [],
   "source": [
    "# I am creating a user defined function which will check the similarity score using spacy and its function\n",
    "def similarity_check(a,b):\n",
    "    doc1 = nlp(a)\n",
    "    doc2 = nlp(b)\n",
    "    print(doc1.similarity(doc2)) # '.similarity' function checks the similarity between two sentences and gives the score"
   ]
  },
  {
   "cell_type": "markdown",
   "id": "4b823ff8",
   "metadata": {},
   "source": [
    "Here are some of the sentences and their Similarity Score"
   ]
  },
  {
   "cell_type": "code",
   "execution_count": 3,
   "id": "57db2a36",
   "metadata": {},
   "outputs": [
    {
     "name": "stdout",
     "output_type": "stream",
     "text": [
      "Enter the sentence 1:I am Surya\n",
      "Enter the sentence 2:I am  kid\n",
      "0.9630297676421026\n"
     ]
    }
   ],
   "source": [
    "a=input('Enter the sentence 1:')\n",
    "b=input('Enter the sentence 2:')\n",
    "similarity_check(a,b)"
   ]
  },
  {
   "cell_type": "code",
   "execution_count": 4,
   "id": "636084f0",
   "metadata": {},
   "outputs": [
    {
     "name": "stdout",
     "output_type": "stream",
     "text": [
      "0.8767818802415661\n"
     ]
    }
   ],
   "source": [
    "a = 'I ordered a Car yesterday'\n",
    "b = 'I got a vehicle yesterday'\n",
    "similarity_check(a,b)"
   ]
  },
  {
   "cell_type": "code",
   "execution_count": 5,
   "id": "7552bd30",
   "metadata": {},
   "outputs": [
    {
     "name": "stdout",
     "output_type": "stream",
     "text": [
      "0.46335141176568045\n"
     ]
    }
   ],
   "source": [
    "a = 'Weather is so hot'\n",
    "b = 'Whether We can play or not'\n",
    "similarity_check(a,b)"
   ]
  },
  {
   "cell_type": "code",
   "execution_count": 6,
   "id": "25788b97",
   "metadata": {},
   "outputs": [
    {
     "name": "stdout",
     "output_type": "stream",
     "text": [
      "0.565708089791024\n"
     ]
    }
   ],
   "source": [
    "a = 'Sky is Blue'\n",
    "b = 'Red is the colour of Blood'\n",
    "similarity_check(a,b)"
   ]
  },
  {
   "cell_type": "code",
   "execution_count": null,
   "id": "b6a2bdfe",
   "metadata": {},
   "outputs": [],
   "source": []
  }
 ],
 "metadata": {
  "kernelspec": {
   "display_name": "Python 3 (ipykernel)",
   "language": "python",
   "name": "python3"
  },
  "language_info": {
   "codemirror_mode": {
    "name": "ipython",
    "version": 3
   },
   "file_extension": ".py",
   "mimetype": "text/x-python",
   "name": "python",
   "nbconvert_exporter": "python",
   "pygments_lexer": "ipython3",
   "version": "3.9.12"
  }
 },
 "nbformat": 4,
 "nbformat_minor": 5
}
